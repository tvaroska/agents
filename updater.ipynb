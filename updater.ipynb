{
 "cells": [
  {
   "cell_type": "code",
   "execution_count": null,
   "id": "2afeae79-6492-4f2d-bc43-6922e1a794b1",
   "metadata": {},
   "outputs": [],
   "source": [
    "from typing import Optional, List\n",
    "\n",
    "from datetime import datetime, timedelta\n",
    "\n",
    "from pydantic import BaseModel, Field\n",
    "from langchain_google_vertexai import ChatVertexAI\n",
    "\n",
    "from updater.collect import new_articles"
   ]
  },
  {
   "cell_type": "code",
   "execution_count": null,
   "id": "75f1b3aa-6ec4-4f3d-9afe-8c049797ff32",
   "metadata": {},
   "outputs": [],
   "source": [
    "class ArticlePlan(BaseModel):\n",
    "    ids: List[str] = Field(description='List of IDs of articles to use')\n",
    "\n",
    "class Section(BaseModel):\n",
    "    title: str\n",
    "    description: Optional[str] = None\n",
    "    literaly: bool = True\n",
    "\n",
    "class Format(BaseModel):\n",
    "    topic: str\n",
    "    audience: str\n",
    "    description: str\n",
    "    sections: List[Section]\n",
    "\n",
    "    def to_xml(self) -> str:\n",
    "\n",
    "        description = f'<TOPIC>{self.topic}</TOPIC>\\n<AUDIENCE>{self.audience}</AUDIENCE>\\n<DESCRIPTION>{self.description}</DESCRIPTION'\n",
    "\n",
    "        description += '<SECTIONS>/n'\n",
    "        for section in self.sections:\n",
    "            description += f'<SECTION><TITLE>{section.title}</TITLE><DESCRIPTION>{section.description}</DESCRIPTION>'\n",
    "            if not section.literaly:\n",
    "                description += '<INSTRUCTION>Use this as a guidline to create multiple sections as described</INSTRUCTION>'\n",
    "        description += '/n</SECTIONS>'\n",
    "    \n",
    "        return '<FORMAT>\\n' + description + '\\n</FORMAT>'"
   ]
  },
  {
   "cell_type": "code",
   "execution_count": null,
   "id": "48222a22-b400-4b0b-8722-a35b348de523",
   "metadata": {},
   "outputs": [],
   "source": [
    "class Summary(BaseModel):\n",
    "    title: str = Field(description='Title of the article')\n",
    "    short_summary: str = Field(description='Short summary of the article, one paragraph long. This summary will be shown togather with title. Be direct, avoid statements like This post ...')\n",
    "    long_summary: str = Field(description='Long summary, maximum 1/2 of the page. Use HTML to format the output')\n",
    "    links: List[str] = Field(description='If article refer to another interesting informations, list of urls')"
   ]
  },
  {
   "cell_type": "code",
   "execution_count": null,
   "id": "70d75fc5-44e5-4af2-8202-4700fa7fb3ae",
   "metadata": {},
   "outputs": [],
   "source": [
    "newsletter = Format(\n",
    "    topic='Space Exploration',\n",
    "    audience='technical, mostly sofware engineers and data scientists',\n",
    "    description='Newsletter of latest developments in the field',\n",
    "    sections=[\n",
    "        Section(title='TL;DR', description='summary of main development'),\n",
    "        Section(title='Name of the article', description='one section for each article within selected topic, select 5 articles most relevant to topic', literaly=False)\n",
    "    ]\n",
    ")"
   ]
  },
  {
   "cell_type": "code",
   "execution_count": null,
   "id": "1fcfe4b3-3e75-4269-843a-b3edd5f05b40",
   "metadata": {},
   "outputs": [],
   "source": [
    "DEFAULT_FEEDS = [\n",
    "    'https://huyenchip.com/feed.xml',  # Regular RSS\n",
    "    'https://decodingml.substack.com/feed',  # Substack\n",
    "    'https://www.youtube.com/feeds/videos.xml?channel_id=UCeMcDx6-rOq_RlKSPehk2tQ'  # Youtube\n",
    "]"
   ]
  },
  {
   "cell_type": "code",
   "execution_count": null,
   "id": "d702c217-1601-4142-939e-9b253a5acff5",
   "metadata": {},
   "outputs": [],
   "source": [
    "starting_point = datetime(year=1900, month=1, day=1)"
   ]
  },
  {
   "cell_type": "code",
   "execution_count": null,
   "id": "e1c97e50-9f36-49d6-ae6c-f074dec8d19d",
   "metadata": {},
   "outputs": [],
   "source": [
    "articles = new_articles(DEFAULT_FEEDS, starting_point)"
   ]
  },
  {
   "cell_type": "code",
   "execution_count": null,
   "id": "2bb91e99-7401-4e03-8d08-7dc8d0922ebe",
   "metadata": {},
   "outputs": [],
   "source": [
    "prompt_articles = '<ARTICLES>' + ''.join([a.to_xml() for a in articles]) + '</ARTICLES>'"
   ]
  },
  {
   "cell_type": "code",
   "execution_count": null,
   "id": "e5925c36-1f81-4e5c-96d1-822e01a47f97",
   "metadata": {},
   "outputs": [],
   "source": [
    "prompt = f\"\"\"Create outline of document with following specifications: {newsletter.to_xml()}\n",
    "\n",
    "{prompt_articles}\n",
    "\n",
    "Respond with list of sections, each section with plan how to create content for it.\n",
    "\"\"\""
   ]
  },
  {
   "cell_type": "code",
   "execution_count": null,
   "id": "34000279-4a83-4f0e-892f-3d31d0dc3eb9",
   "metadata": {},
   "outputs": [],
   "source": [
    "llm = ChatVertexAI(model='gemini-1.5-pro-002').with_structured_output(ArticlePlan, method='json_mode')"
   ]
  },
  {
   "cell_type": "code",
   "execution_count": null,
   "id": "4c5ac47a-e2c8-4606-aed6-992d0c820381",
   "metadata": {},
   "outputs": [],
   "source": [
    "response = llm.invoke(prompt)"
   ]
  },
  {
   "cell_type": "code",
   "execution_count": null,
   "id": "e762ecdd-b72a-4b4b-b019-ec697f4ae90a",
   "metadata": {},
   "outputs": [],
   "source": [
    "s = [idx for (idx, a) in enumerate(articles) if str(a.id) in response.ids]"
   ]
  },
  {
   "cell_type": "code",
   "execution_count": null,
   "id": "1605e943-a565-4454-a312-3b90911e6ea2",
   "metadata": {},
   "outputs": [],
   "source": [
    "s = ChatVertexAI(model='gemini-1.5-flash-002').with_structured_output(Summary, method='json_mode')"
   ]
  },
  {
   "cell_type": "code",
   "execution_count": null,
   "id": "1bc2886d-7cc8-4965-8ce9-b873d0156e85",
   "metadata": {},
   "outputs": [],
   "source": [
    "articles[-1].url"
   ]
  },
  {
   "cell_type": "code",
   "execution_count": null,
   "id": "1a950073-20c3-44e7-9a4c-6c0d1e3a27a8",
   "metadata": {},
   "outputs": [],
   "source": [
    "a = s.invoke([\n",
    "        (\"user\", [{\"type\": \"text\", \"text\": \"Analyze the article\"}, \n",
    "              {\"type\": \"media\", \"mime_type\": \"text/html\", \"file_uri\": articles[0].url}])\n",
    "])"
   ]
  },
  {
   "cell_type": "code",
   "execution_count": null,
   "id": "6016f960-45e5-43d9-998b-3b0f4d431cac",
   "metadata": {},
   "outputs": [],
   "source": [
    "a.title"
   ]
  },
  {
   "cell_type": "code",
   "execution_count": null,
   "id": "16de358b-2b4c-43d3-8d41-a24286b05921",
   "metadata": {},
   "outputs": [],
   "source": [
    "a.links"
   ]
  },
  {
   "cell_type": "code",
   "execution_count": null,
   "id": "fe5abeae-cdb3-4b4a-85f8-6f2d8c1a59bb",
   "metadata": {},
   "outputs": [],
   "source": []
  }
 ],
 "metadata": {
  "kernelspec": {
   "display_name": "Python 3 (ipykernel)",
   "language": "python",
   "name": "python3"
  },
  "language_info": {
   "codemirror_mode": {
    "name": "ipython",
    "version": 3
   },
   "file_extension": ".py",
   "mimetype": "text/x-python",
   "name": "python",
   "nbconvert_exporter": "python",
   "pygments_lexer": "ipython3",
   "version": "3.12.6"
  }
 },
 "nbformat": 4,
 "nbformat_minor": 5
}
