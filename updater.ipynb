{
 "cells": [
  {
   "cell_type": "code",
   "execution_count": 1,
   "id": "2afeae79-6492-4f2d-bc43-6922e1a794b1",
   "metadata": {},
   "outputs": [],
   "source": [
    "from typing import Optional, List\n",
    "\n",
    "from datetime import datetime, timedelta\n",
    "\n",
    "from pydantic import BaseModel, Field\n",
    "from langchain_google_vertexai import ChatVertexAI\n",
    "\n",
    "from updater.collect import new_articles"
   ]
  },
  {
   "cell_type": "code",
   "execution_count": 2,
   "id": "75f1b3aa-6ec4-4f3d-9afe-8c049797ff32",
   "metadata": {},
   "outputs": [],
   "source": [
    "class ArticlePlan(BaseModel):\n",
    "    ids: List[str] = Field(description='List of IDs of articles to use')\n",
    "\n",
    "class Section(BaseModel):\n",
    "    title: str\n",
    "    description: Optional[str] = None\n",
    "    literaly: bool = True\n",
    "\n",
    "class Format(BaseModel):\n",
    "    topic: str\n",
    "    audience: str\n",
    "    description: str\n",
    "    sections: List[Section]\n",
    "\n",
    "    def to_xml(self) -> str:\n",
    "\n",
    "        description = f'<TOPIC>{self.topic}</TOPIC>\\n<AUDIENCE>{self.audience}</AUDIENCE>\\n<DESCRIPTION>{self.description}</DESCRIPTION'\n",
    "\n",
    "        description += '<SECTIONS>/n'\n",
    "        for section in self.sections:\n",
    "            description += f'<SECTION><TITLE>{section.title}</TITLE><DESCRIPTION>{section.description}</DESCRIPTION>'\n",
    "            if not section.literaly:\n",
    "                description += '<INSTRUCTION>Use this as a guidline to create multiple sections as described</INSTRUCTION>'\n",
    "        description += '/n</SECTIONS>'\n",
    "    \n",
    "        return '<FORMAT>\\n' + description + '\\n</FORMAT>'"
   ]
  },
  {
   "cell_type": "code",
   "execution_count": 25,
   "id": "70d75fc5-44e5-4af2-8202-4700fa7fb3ae",
   "metadata": {},
   "outputs": [],
   "source": [
    "newsletter = Format(\n",
    "    topic='Space Exploration',\n",
    "    audience='technical, mostly sofware engineers and data scientists',\n",
    "    description='Newsletter of latest developments in the field',\n",
    "    sections=[\n",
    "        Section(title='TL;DR', description='summary of main development'),\n",
    "        Section(title='Name of the article', description='one section for each article within selected topic, select 5 articles most relevant to topic', literaly=False)\n",
    "    ]\n",
    ")"
   ]
  },
  {
   "cell_type": "code",
   "execution_count": 16,
   "id": "1fcfe4b3-3e75-4269-843a-b3edd5f05b40",
   "metadata": {},
   "outputs": [],
   "source": [
    "DEFAULT_FEEDS = [\n",
    "    'https://huyenchip.com/feed.xml',  # Regular RSS\n",
    "    'https://decodingml.substack.com/feed',  # Substack\n",
    "    'https://www.youtube.com/feeds/videos.xml?channel_id=UCeMcDx6-rOq_RlKSPehk2tQ'  # Youtube\n",
    "]"
   ]
  },
  {
   "cell_type": "code",
   "execution_count": 17,
   "id": "d702c217-1601-4142-939e-9b253a5acff5",
   "metadata": {},
   "outputs": [],
   "source": [
    "starting_point = datetime(year=1900, month=1, day=1)"
   ]
  },
  {
   "cell_type": "code",
   "execution_count": 18,
   "id": "e1c97e50-9f36-49d6-ae6c-f074dec8d19d",
   "metadata": {},
   "outputs": [],
   "source": [
    "articles = new_articles(DEFAULT_FEEDS, starting_point)"
   ]
  },
  {
   "cell_type": "code",
   "execution_count": 26,
   "id": "2bb91e99-7401-4e03-8d08-7dc8d0922ebe",
   "metadata": {},
   "outputs": [],
   "source": [
    "prompt_articles = '<ARTICLES>' + ''.join([a.to_xml() for a in articles]) + '</ARTICLES>'"
   ]
  },
  {
   "cell_type": "code",
   "execution_count": 27,
   "id": "e5925c36-1f81-4e5c-96d1-822e01a47f97",
   "metadata": {},
   "outputs": [],
   "source": [
    "prompt = f\"\"\"Create outline of document with following specifications: {newsletter.to_xml()}\n",
    "\n",
    "{prompt_articles}\n",
    "\n",
    "Respond with list of sections, each section with plan how to create content for it.\n",
    "\"\"\""
   ]
  },
  {
   "cell_type": "code",
   "execution_count": 32,
   "id": "34000279-4a83-4f0e-892f-3d31d0dc3eb9",
   "metadata": {},
   "outputs": [],
   "source": [
    "llm = ChatVertexAI(model='gemini-1.5-pro-002').with_structured_output(ArticlePlan, method='json_mode')"
   ]
  },
  {
   "cell_type": "code",
   "execution_count": 33,
   "id": "4c5ac47a-e2c8-4606-aed6-992d0c820381",
   "metadata": {},
   "outputs": [],
   "source": [
    "response = llm.invoke(prompt)"
   ]
  },
  {
   "cell_type": "code",
   "execution_count": 36,
   "id": "e762ecdd-b72a-4b4b-b019-ec697f4ae90a",
   "metadata": {},
   "outputs": [
    {
     "data": {
      "text/plain": [
       "['Building A Generative AI Platform',\n",
       " 'How NASA Will Land On Titan!',\n",
       " 'The 2025 SpaceX Update Is Here!',\n",
       " 'SpaceX Reveals New Starship Update!',\n",
       " \"NASA Isn't Telling Us Something About This Asteroid\"]"
      ]
     },
     "execution_count": 36,
     "metadata": {},
     "output_type": "execute_result"
    }
   ],
   "source": [
    "[a.title for (idx, a) in enumerate(articles) if str(a.id) in response.ids]"
   ]
  },
  {
   "cell_type": "code",
   "execution_count": 35,
   "id": "1605e943-a565-4454-a312-3b90911e6ea2",
   "metadata": {},
   "outputs": [
    {
     "data": {
      "text/plain": [
       "5"
      ]
     },
     "execution_count": 35,
     "metadata": {},
     "output_type": "execute_result"
    }
   ],
   "source": [
    "len(response.ids)"
   ]
  },
  {
   "cell_type": "code",
   "execution_count": null,
   "id": "7b864836-c6bf-4fed-a4ad-5bd825a6f7d4",
   "metadata": {},
   "outputs": [],
   "source": []
  }
 ],
 "metadata": {
  "kernelspec": {
   "display_name": "Python 3 (ipykernel)",
   "language": "python",
   "name": "python3"
  },
  "language_info": {
   "codemirror_mode": {
    "name": "ipython",
    "version": 3
   },
   "file_extension": ".py",
   "mimetype": "text/x-python",
   "name": "python",
   "nbconvert_exporter": "python",
   "pygments_lexer": "ipython3",
   "version": "3.12.6"
  }
 },
 "nbformat": 4,
 "nbformat_minor": 5
}
