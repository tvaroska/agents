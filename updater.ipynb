{
 "cells": [
  {
   "cell_type": "code",
   "execution_count": 7,
   "id": "2afeae79-6492-4f2d-bc43-6922e1a794b1",
   "metadata": {},
   "outputs": [],
   "source": [
    "from datetime import datetime, timedelta\n",
    "\n",
    "from updater.collect import new_articles"
   ]
  },
  {
   "cell_type": "code",
   "execution_count": 8,
   "id": "1fcfe4b3-3e75-4269-843a-b3edd5f05b40",
   "metadata": {},
   "outputs": [],
   "source": [
    "DEFAULT_FEEDS = [\n",
    "    'https://huyenchip.com/feed.xml',  # Regular RSS\n",
    "    'https://decodingml.substack.com/feed',  # Substack\n",
    "    'https://www.youtube.com/feeds/videos.xml?channel_id=UCeMcDx6-rOq_RlKSPehk2tQ'  # Youtube\n",
    "]"
   ]
  },
  {
   "cell_type": "code",
   "execution_count": 9,
   "id": "d702c217-1601-4142-939e-9b253a5acff5",
   "metadata": {},
   "outputs": [],
   "source": [
    "starting_point = datetime(year=1900, month=1, day=1)"
   ]
  },
  {
   "cell_type": "code",
   "execution_count": 10,
   "id": "e1c97e50-9f36-49d6-ae6c-f074dec8d19d",
   "metadata": {},
   "outputs": [],
   "source": [
    "articles = new_articles(DEFAULT_FEEDS, starting_point)"
   ]
  },
  {
   "cell_type": "code",
   "execution_count": 12,
   "id": "2bb91e99-7401-4e03-8d08-7dc8d0922ebe",
   "metadata": {},
   "outputs": [
    {
     "data": {
      "text/plain": [
       "\"Sign up for the weekly Space Race newsletter here: https://www.thespacerace.news/subscribe\\n\\nLast Video: Elon Musk Leaks Starship Flight 6 Update!\\nhttps://www.youtube.com/watch?v=3oSC9dMao6c\\n\\n►Sign up for the weekly Space Race newsletter here: https://www.thespacerace.news/subscribe\\n►Become a member today: https://www.youtube.com/channel/UCeMcDx6-rOq_RlKSPehk2tQ/join\\n►Support the channel by purchasing from our merch store: https://shop.theteslaspace.com/\\n► Join Our Discord Server: https://discord.gg/jeZgzNUcBw\\n► Patreon: https://www.patreon.com/thespacerace\\n► X/Twitter: https://twitter.com/TheSpaceRaceYT\\n► Subscribe to our other channel, The Tesla Space: https://www.youtube.com/c/TheTeslaSpace\\n\\nMars Colonization News and Updates\\nhttps://www.youtube.com/playlist?list=PLBfN0491sF0SQRy0-pZBjdnBaU6JsWr4B\\n\\nSpaceX News and Updates: https://www.youtube.com/playlist?list=PLBfN0491sF0QGbrNimSIWKYeyQ7JjENhE\\n\\nThe Space Race is dedicated to the exploration of outer space and humans' mission to explore the universe. We’ll provide news and updates from everything in space, including the SpaceX and NASA mission to colonize Mars and the Moon. We’ll focus on news and updates from SpaceX, NASA, Starlink, Blue Origin, The James Webb Space Telescope and more. If you’re interested in space exploration, Mars colonization, and everything to do with space travel and the space race... you’ve come to the right channel! We love space and hope to inspire others to learn more! \\n\\n► Subscribe to The Tesla Space newsletter: https://www.theteslaspace.com\\n\\nBusiness Email: sean@creatormill.com\\n\\n#Spacex #Space #Mars\""
      ]
     },
     "execution_count": 12,
     "metadata": {},
     "output_type": "execute_result"
    }
   ],
   "source": [
    "articles[-1].summary"
   ]
  },
  {
   "cell_type": "code",
   "execution_count": null,
   "id": "e5925c36-1f81-4e5c-96d1-822e01a47f97",
   "metadata": {},
   "outputs": [],
   "source": []
  }
 ],
 "metadata": {
  "kernelspec": {
   "display_name": "Python 3 (ipykernel)",
   "language": "python",
   "name": "python3"
  },
  "language_info": {
   "codemirror_mode": {
    "name": "ipython",
    "version": 3
   },
   "file_extension": ".py",
   "mimetype": "text/x-python",
   "name": "python",
   "nbconvert_exporter": "python",
   "pygments_lexer": "ipython3",
   "version": "3.12.6"
  }
 },
 "nbformat": 4,
 "nbformat_minor": 5
}
