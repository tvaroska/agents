{
 "cells": [
  {
   "cell_type": "code",
   "execution_count": 1,
   "id": "2afeae79-6492-4f2d-bc43-6922e1a794b1",
   "metadata": {},
   "outputs": [],
   "source": [
    "from datetime import datetime, timedelta\n",
    "\n",
    "from utils import FEEDS, new_articles"
   ]
  },
  {
   "cell_type": "code",
   "execution_count": 2,
   "id": "d702c217-1601-4142-939e-9b253a5acff5",
   "metadata": {},
   "outputs": [],
   "source": [
    "starting_point = datetime(year=1900, month=1, day=1)"
   ]
  },
  {
   "cell_type": "code",
   "execution_count": 3,
   "id": "e1c97e50-9f36-49d6-ae6c-f074dec8d19d",
   "metadata": {},
   "outputs": [
    {
     "data": {
      "text/plain": [
       "['https://huyenchip.com//2024/07/25/genai-platform.html',\n",
       " 'https://huyenchip.com//2024/04/17/personal-growth.html',\n",
       " 'https://huyenchip.com//2024/03/14/ai-oss.html',\n",
       " 'https://huyenchip.com//2024/02/28/predictive-human-preference.html',\n",
       " 'https://huyenchip.com//2024/01/16/sampling.html',\n",
       " 'https://huyenchip.com//2023/10/10/multimodal.html',\n",
       " 'https://huyenchip.com//2023/08/16/llm-research-open-challenges.html',\n",
       " 'https://huyenchip.com//2023/06/07/generative-ai-strategy.html',\n",
       " 'https://huyenchip.com//2023/05/02/rlhf.html',\n",
       " 'https://huyenchip.com//2023/04/11/llm-engineering.html',\n",
       " 'https://decodingml.substack.com/p/slm-fine-tuning-top-results-at-947',\n",
       " 'https://decodingml.substack.com/p/forget-text-to-sql-use-this-natural',\n",
       " 'https://decodingml.substack.com/p/structure-your-python-ai-code-like',\n",
       " 'https://decodingml.substack.com/p/training-pipelines-for-tiktok-like',\n",
       " 'https://decodingml.substack.com/p/build-a-tiktok-like-recommender-from',\n",
       " 'https://decodingml.substack.com/p/feature-pipeline-for-tiktok-like',\n",
       " 'https://decodingml.substack.com/p/the-ultimate-prompt-monitoring-pipeline',\n",
       " 'https://decodingml.substack.com/p/the-ultimate-recommender-system-framework',\n",
       " 'https://decodingml.substack.com/p/beyond-pocs-building-rag-systems',\n",
       " 'https://decodingml.substack.com/p/engineers-framework-for-llm-and-rag',\n",
       " 'https://decodingml.substack.com/p/the-ultimate-llm-fine-tuning-pipeline',\n",
       " 'https://decodingml.substack.com/p/connecting-the-dots-in-data-and-ai',\n",
       " 'https://decodingml.substack.com/p/ml-serving-101-core-architectures',\n",
       " 'https://decodingml.substack.com/p/the-abcs-of-diffusion-models',\n",
       " 'https://decodingml.substack.com/p/llm-engineers-handbook-is-finally',\n",
       " 'https://decodingml.substack.com/p/inside-vector-dbs-a-simple-guide',\n",
       " 'https://decodingml.substack.com/p/instagram-data-mining-using-llms',\n",
       " 'https://decodingml.substack.com/p/custom-ai-solutions-are-overrated',\n",
       " 'https://decodingml.substack.com/p/the-6-mlops-foundational-principles',\n",
       " 'https://decodingml.substack.com/p/build-a-semantic-news-search-engine',\n",
       " 'https://www.youtube.com/watch?v=NcYSJc8GjxM',\n",
       " 'https://www.youtube.com/watch?v=cIcGY6CStcU',\n",
       " 'https://www.youtube.com/watch?v=JWayuGsWIL8',\n",
       " 'https://www.youtube.com/watch?v=P2L-_5fybag',\n",
       " 'https://www.youtube.com/watch?v=ish_ycyS4JU',\n",
       " 'https://www.youtube.com/watch?v=zNvXfdkcSeo',\n",
       " 'https://www.youtube.com/watch?v=cxPaJsPrmc4',\n",
       " 'https://www.youtube.com/watch?v=YkMGcM3ABKY',\n",
       " 'https://www.youtube.com/watch?v=a1oxZ6RtpPk',\n",
       " 'https://www.youtube.com/watch?v=wEkiBbhq14o',\n",
       " 'https://www.youtube.com/watch?v=esi9K_JKs3k',\n",
       " 'https://www.youtube.com/watch?v=oqI5XEysZZg',\n",
       " 'https://www.youtube.com/watch?v=z-WjMcrmuLM',\n",
       " 'https://www.youtube.com/watch?v=xJgkkSlsyzU',\n",
       " 'https://www.youtube.com/watch?v=O21LvhzC2zg']"
      ]
     },
     "execution_count": 3,
     "metadata": {},
     "output_type": "execute_result"
    }
   ],
   "source": [
    "new_articles(FEEDS, starting_point)"
   ]
  },
  {
   "cell_type": "code",
   "execution_count": null,
   "id": "32fd0747-1f8f-40d7-82d0-3d5f75102881",
   "metadata": {},
   "outputs": [],
   "source": []
  }
 ],
 "metadata": {
  "kernelspec": {
   "display_name": "Python 3 (ipykernel)",
   "language": "python",
   "name": "python3"
  },
  "language_info": {
   "codemirror_mode": {
    "name": "ipython",
    "version": 3
   },
   "file_extension": ".py",
   "mimetype": "text/x-python",
   "name": "python",
   "nbconvert_exporter": "python",
   "pygments_lexer": "ipython3",
   "version": "3.12.6"
  }
 },
 "nbformat": 4,
 "nbformat_minor": 5
}
