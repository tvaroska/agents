{
 "cells": [
  {
   "cell_type": "code",
   "execution_count": 1,
   "id": "ad0569ba-1057-4292-a274-5187ab8ddbec",
   "metadata": {},
   "outputs": [],
   "source": [
    "from langgraph.pregel.remote import RemoteGraph\n",
    "\n",
    "url = 'http://localhost:8123'\n",
    "graph_name = \"accounts\"\n",
    "app = RemoteGraph(graph_name, url=url)\n",
    "\n",
    "CREDIT_CARD = '(credit card number 8248)'\n",
    "QUERY = \"How many account does James Smith have?\""
   ]
  },
  {
   "cell_type": "code",
   "execution_count": 2,
   "id": "5b641d7d-9aab-44b6-8bf0-0098cff1abfc",
   "metadata": {},
   "outputs": [],
   "source": [
    "response1 = app.invoke({\"messages\": [(\"human\", QUERY + CREDIT_CARD)]})"
   ]
  },
  {
   "cell_type": "code",
   "execution_count": 3,
   "id": "b6d6b151-2e27-4db9-aef7-73aaf8725197",
   "metadata": {},
   "outputs": [
    {
     "data": {
      "text/plain": [
       "'James Smith has 2 accounts.'"
      ]
     },
     "execution_count": 3,
     "metadata": {},
     "output_type": "execute_result"
    }
   ],
   "source": [
    "response1['messages'][-1]['content']"
   ]
  },
  {
   "cell_type": "code",
   "execution_count": 4,
   "id": "aeacd385-a999-4c3a-b085-7ea1685cd62e",
   "metadata": {},
   "outputs": [],
   "source": [
    "response2 = app.invoke({\"messages\": [(\"human\", QUERY)]})"
   ]
  },
  {
   "cell_type": "code",
   "execution_count": 5,
   "id": "68d41968-f9f2-4236-92d9-c6373f57faf2",
   "metadata": {},
   "outputs": [
    {
     "data": {
      "text/plain": [
       "\"I need to know James Smith's account last four digits or credit card last four digits to identify him.\\n\""
      ]
     },
     "execution_count": 5,
     "metadata": {},
     "output_type": "execute_result"
    }
   ],
   "source": [
    "response2['messages'][-1]['content']"
   ]
  },
  {
   "cell_type": "code",
   "execution_count": null,
   "id": "161f0183-9bfb-4390-8482-65d4f2b0e53a",
   "metadata": {},
   "outputs": [],
   "source": []
  }
 ],
 "metadata": {
  "kernelspec": {
   "display_name": "Python 3 (ipykernel)",
   "language": "python",
   "name": "python3"
  },
  "language_info": {
   "codemirror_mode": {
    "name": "ipython",
    "version": 3
   },
   "file_extension": ".py",
   "mimetype": "text/x-python",
   "name": "python",
   "nbconvert_exporter": "python",
   "pygments_lexer": "ipython3",
   "version": "3.12.6"
  }
 },
 "nbformat": 4,
 "nbformat_minor": 5
}
