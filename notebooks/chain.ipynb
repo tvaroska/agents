{
 "cells": [
  {
   "cell_type": "code",
   "execution_count": 1,
   "id": "ad0569ba-1057-4292-a274-5187ab8ddbec",
   "metadata": {},
   "outputs": [],
   "source": [
    "from langgraph_sdk import get_client\n",
    "from langgraph.pregel.remote import RemoteGraph\n",
    "\n",
    "url = 'http://localhost:8123'\n",
    "graph_name = \"accounts\"\n",
    "app = RemoteGraph(graph_name, url=url)\n",
    "\n",
    "CREDIT_CARD = '(credit card number 8248)'\n",
    "QUERY = \"How many account does James Smith have?\""
   ]
  },
  {
   "cell_type": "code",
   "execution_count": 2,
   "id": "884f4903-4dcf-4e12-afb9-303bd2d516cb",
   "metadata": {},
   "outputs": [],
   "source": [
    "client = get_client(url=url)\n",
    "thread = await client.threads.create()"
   ]
  },
  {
   "cell_type": "code",
   "execution_count": 3,
   "id": "36d127a8-453f-4648-92d6-d49a774ef41c",
   "metadata": {},
   "outputs": [
    {
     "data": {
      "text/plain": [
       "{'thread_id': '79581578-40ca-4d44-9f64-9e7eb3456c67',\n",
       " 'created_at': '2024-12-22T02:33:22.089426+00:00',\n",
       " 'updated_at': '2024-12-22T02:33:22.089426+00:00',\n",
       " 'metadata': {},\n",
       " 'status': 'idle',\n",
       " 'config': {},\n",
       " 'values': None,\n",
       " 'interrupts': {}}"
      ]
     },
     "execution_count": 3,
     "metadata": {},
     "output_type": "execute_result"
    }
   ],
   "source": [
    "thread"
   ]
  },
  {
   "cell_type": "code",
   "execution_count": 4,
   "id": "d1863efe-34e0-482b-ba1d-60a530ab248c",
   "metadata": {},
   "outputs": [],
   "source": [
    "config = {\"configurable\": {\"thread_id\": thread[\"thread_id\"]}}"
   ]
  },
  {
   "cell_type": "code",
   "execution_count": 5,
   "id": "5b641d7d-9aab-44b6-8bf0-0098cff1abfc",
   "metadata": {},
   "outputs": [],
   "source": [
    "response1 = app.invoke({\"messages\": [(\"human\", QUERY)]}, config)"
   ]
  },
  {
   "cell_type": "code",
   "execution_count": 6,
   "id": "b6d6b151-2e27-4db9-aef7-73aaf8725197",
   "metadata": {},
   "outputs": [
    {
     "data": {
      "text/plain": [
       "\"I need either the last four digits of James Smith's credit card or account number to identify him and retrieve his account information.\\n\""
      ]
     },
     "execution_count": 6,
     "metadata": {},
     "output_type": "execute_result"
    }
   ],
   "source": [
    "response1['messages'][-1]['content']"
   ]
  },
  {
   "cell_type": "code",
   "execution_count": 7,
   "id": "aeacd385-a999-4c3a-b085-7ea1685cd62e",
   "metadata": {},
   "outputs": [],
   "source": [
    "response2 = app.invoke({\"messages\": [(\"human\", CREDIT_CARD)]}, config)"
   ]
  },
  {
   "cell_type": "code",
   "execution_count": 8,
   "id": "68d41968-f9f2-4236-92d9-c6373f57faf2",
   "metadata": {},
   "outputs": [
    {
     "data": {
      "text/plain": [
       "'James Smith has 2 accounts.  A credit account and a checking account.\\n'"
      ]
     },
     "execution_count": 8,
     "metadata": {},
     "output_type": "execute_result"
    }
   ],
   "source": [
    "response2['messages'][-1]['content']"
   ]
  },
  {
   "cell_type": "code",
   "execution_count": null,
   "id": "a04c42bd-8b06-41e7-a17f-3f105cee10f8",
   "metadata": {},
   "outputs": [],
   "source": []
  }
 ],
 "metadata": {
  "kernelspec": {
   "display_name": "Python 3 (ipykernel)",
   "language": "python",
   "name": "python3"
  },
  "language_info": {
   "codemirror_mode": {
    "name": "ipython",
    "version": 3
   },
   "file_extension": ".py",
   "mimetype": "text/x-python",
   "name": "python",
   "nbconvert_exporter": "python",
   "pygments_lexer": "ipython3",
   "version": "3.12.6"
  }
 },
 "nbformat": 4,
 "nbformat_minor": 5
}
