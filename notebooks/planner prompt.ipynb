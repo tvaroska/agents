{
 "cells": [
  {
   "cell_type": "code",
   "execution_count": 1,
   "id": "5dc59321-cf8f-409f-92d5-40a23d864bf6",
   "metadata": {},
   "outputs": [],
   "source": [
    "from typing import List, Optional\n",
    "\n",
    "from pydantic import BaseModel\n",
    "from langchain_google_vertexai import ChatVertexAI\n",
    "\n",
    "from utils import BaseXMLModel\n",
    "from IPython.display import Markdown"
   ]
  },
  {
   "cell_type": "code",
   "execution_count": 2,
   "id": "016ee5ac-2506-4fb9-8846-46821657ffb0",
   "metadata": {},
   "outputs": [],
   "source": [
    "class Section(BaseXMLModel):\n",
    "    title: str\n",
    "    description: Optional[str] = None\n",
    "    required: bool = True\n",
    "\n",
    "class Format(BaseXMLModel):\n",
    "    topic: str\n",
    "    audience: str\n",
    "    description: str\n",
    "    sections: List[Section]"
   ]
  },
  {
   "cell_type": "code",
   "execution_count": 3,
   "id": "0156bd38-1f98-44de-874e-3519ebd021e9",
   "metadata": {},
   "outputs": [],
   "source": [
    "newsletter = Format(\n",
    "    topic='AI and Large Language Models',\n",
    "    audience='technical, mostly sofware engineers and data scientists',\n",
    "    description='Newsletter of latest developments in the field',\n",
    "#    required_sections=['TL;DR - summary of main development'],\n",
    "    sections=[\n",
    "        Section(title='TL;DR', description='summary of main development'),\n",
    "        Section(title='Name of the article', description='one section for each article within selected topic', required=False)\n",
    "    ]\n",
    ")"
   ]
  },
  {
   "cell_type": "code",
   "execution_count": 7,
   "id": "6539445c-0887-462b-9b3f-375ab261fa02",
   "metadata": {},
   "outputs": [
    {
     "data": {
      "text/plain": [
       "\"<Format>\\n<topic>AI and Large Language Models</topic><audience>technical, mostly sofware engineers and data scientists</audience><description>Newsletter of latest developments in the field</description><sections>\\n<ITEM>{'title': 'TL;DR', 'description': 'summary of main development', 'required': True}</ITEM>\\n<ITEM>{'title': 'Name of the article', 'description': 'one section for each article within selected topic', 'required': False}</ITEM>\\n</sections>\\n</Format>\""
      ]
     },
     "execution_count": 7,
     "metadata": {},
     "output_type": "execute_result"
    }
   ],
   "source": [
    "newsletter.to_xml()"
   ]
  },
  {
   "cell_type": "code",
   "execution_count": 5,
   "id": "e84241c6-6e7f-4083-8005-d6eadcf65dfa",
   "metadata": {},
   "outputs": [],
   "source": [
    "model = ChatVertexAI(model='gemini-1.5-pro-002')"
   ]
  },
  {
   "cell_type": "code",
   "execution_count": 8,
   "id": "d71356a2-ef83-45c7-9606-de12b99e6b7d",
   "metadata": {},
   "outputs": [],
   "source": [
    "prompt = f\"\"\"Create outline of document with following specifications: {newsletter.to_xml()}\n",
    "<ARTICLES>\n",
    "<ARTICLE ID='e31'>\n",
    "<TITLE>Greate use-cases for LLMs in Financial Services</TITLE>\n",
    "<SUMMARY>Inspiration for financial services profesionals how to use LLMs in their work</SUMMARY>\n",
    "</ARTICLE>\n",
    "<ARTICLE ID='d12'>\n",
    "<TITLE>Evaluation of LLMs</TITLE>\n",
    "<SUMMARY>Summary of evaluation techiques for GenAI applications</SUMMARY>\n",
    "</ARTICLE>\n",
    "<ARTICLE ID='bab'>\n",
    "<TITLE>Mars colony plans</TITLE>\n",
    "</ARTICLE>\n",
    "</ARTICLES>\n",
    "\n",
    "Respond with list of sections, each section with plan how to create content for it.\n",
    "\"\"\""
   ]
  },
  {
   "cell_type": "code",
   "execution_count": 9,
   "id": "2408faf3-c64c-4507-8869-dc22660d83f9",
   "metadata": {},
   "outputs": [],
   "source": [
    "response = model.invoke([(\"user\", prompt)])"
   ]
  },
  {
   "cell_type": "code",
   "execution_count": 10,
   "id": "ec3e2d09-6335-459a-9737-0ef9e1d53224",
   "metadata": {},
   "outputs": [
    {
     "data": {
      "text/markdown": [
       "```json\n",
       "[\n",
       "  {\n",
       "    \"title\": \"TL;DR\",\n",
       "    \"content_plan\": \"Summarize the key takeaways from the two selected articles ('Great use-cases for LLMs in Financial Services' and 'Evaluation of LLMs').  Focus on practical applications and advancements in evaluation techniques.  Example:  This week's newsletter covers practical applications of LLMs in financial services, including [mention a specific use case or two]. We also explore the latest techniques for evaluating GenAI models, highlighting [mention a key technique or challenge].\",\n",
       "    \"required\": true\n",
       "  },\n",
       "  {\n",
       "    \"title\": \"Great use-cases for LLMs in Financial Services\",\n",
       "    \"content_plan\": \"Extract key use-cases presented in article 'e31'.  Provide brief descriptions for each use-case, potentially categorizing them (e.g., by business function, risk level, or implementation complexity).  Consider including code examples or links to relevant resources if available in the original article. Target audience is technical, so go beyond general statements and provide more technical details or architectural considerations where possible.\",\n",
       "    \"article_id\": \"e31\",\n",
       "    \"required\": false\n",
       "  },\n",
       "  {\n",
       "    \"title\": \"Evaluation of LLMs\",\n",
       "    \"content_plan\": \"Summarize the evaluation techniques presented in article 'd12'. Focus on explaining *how* these techniques work and *why* they are relevant. Provide examples of metrics used. Consider including short code snippets (e.g., Python) to demonstrate how these techniques might be implemented. Since the target audience is technical, including more details and practical examples is important.\",\n",
       "    \"article_id\": \"d12\",\n",
       "    \"required\": false\n",
       "  }\n",
       "]\n",
       "```\n"
      ],
      "text/plain": [
       "<IPython.core.display.Markdown object>"
      ]
     },
     "execution_count": 10,
     "metadata": {},
     "output_type": "execute_result"
    }
   ],
   "source": [
    "Markdown(response.content)"
   ]
  },
  {
   "cell_type": "code",
   "execution_count": null,
   "id": "e4adde6c-9bc4-4139-be13-d37ce8c13814",
   "metadata": {},
   "outputs": [],
   "source": []
  }
 ],
 "metadata": {
  "kernelspec": {
   "display_name": "Python 3 (ipykernel)",
   "language": "python",
   "name": "python3"
  },
  "language_info": {
   "codemirror_mode": {
    "name": "ipython",
    "version": 3
   },
   "file_extension": ".py",
   "mimetype": "text/x-python",
   "name": "python",
   "nbconvert_exporter": "python",
   "pygments_lexer": "ipython3",
   "version": "3.12.6"
  }
 },
 "nbformat": 4,
 "nbformat_minor": 5
}
