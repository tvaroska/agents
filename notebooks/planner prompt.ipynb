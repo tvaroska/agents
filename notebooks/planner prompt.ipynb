{
 "cells": [
  {
   "cell_type": "code",
   "execution_count": 8,
   "id": "5dc59321-cf8f-409f-92d5-40a23d864bf6",
   "metadata": {},
   "outputs": [],
   "source": [
    "from typing import List\n",
    "\n",
    "from pydantic import BaseModel\n",
    "\n",
    "from langchain_google_vertexai import ChatVertexAI\n",
    "\n",
    "from IPython.display import Markdown"
   ]
  },
  {
   "cell_type": "code",
   "execution_count": 2,
   "id": "016ee5ac-2506-4fb9-8846-46821657ffb0",
   "metadata": {},
   "outputs": [],
   "source": [
    "class Format(BaseModel):\n",
    "    topic: str\n",
    "    audience: str\n",
    "    description: str\n",
    "    required_sections: List[str]\n",
    "    sections: List[str]"
   ]
  },
  {
   "cell_type": "code",
   "execution_count": 3,
   "id": "0156bd38-1f98-44de-874e-3519ebd021e9",
   "metadata": {},
   "outputs": [],
   "source": [
    "newsletter = Format(\n",
    "    topic='AI and Large Language Models',\n",
    "    audience='technical, mostly sofware engineers and data scientists',\n",
    "    description='Newsletter of latest developments in the field',\n",
    "    required_sections=['TL;DR - summary of main development'],\n",
    "    sections=['one section for each article within selected topic']\n",
    ")"
   ]
  },
  {
   "cell_type": "code",
   "execution_count": 4,
   "id": "e84241c6-6e7f-4083-8005-d6eadcf65dfa",
   "metadata": {},
   "outputs": [],
   "source": [
    "model = ChatVertexAI(model='gemini-1.5-pro-002')"
   ]
  },
  {
   "cell_type": "code",
   "execution_count": 13,
   "id": "d71356a2-ef83-45c7-9606-de12b99e6b7d",
   "metadata": {},
   "outputs": [],
   "source": [
    "prompt = f\"\"\"Create outline of document with following specifications:\n",
    "Topic: {newsletter.topic}\n",
    "Description: {newsletter.description}\n",
    "Audience: {newsletter.audience}\n",
    "\n",
    "Required sections: {newsletter.required_sections}\n",
    "Additional sections: {newsletter.sections}\n",
    "\n",
    "<ARTICLES>\n",
    "<ARTICLE ID='e31'>\n",
    "<TITLE>Greate use-cases for LLMs in Financial Services</TITLE>\n",
    "<SUMMARY>Inspiration for financial services profesionals how to use LLMs in their work</SUMMARY>\n",
    "</ARTICLE>\n",
    "<ARTICLE ID='d12'>\n",
    "<TITLE>Evaluation of LLMs</TITLE>\n",
    "<SUMMARY>Summary of evaluation techiques for GenAI applications</SUMMARY>\n",
    "</ARTICLE>\n",
    "</ARTICLES>\n",
    "\"\"\""
   ]
  },
  {
   "cell_type": "code",
   "execution_count": 14,
   "id": "2408faf3-c64c-4507-8869-dc22660d83f9",
   "metadata": {},
   "outputs": [],
   "source": [
    "response = model.invoke([(\"user\", prompt)])"
   ]
  },
  {
   "cell_type": "code",
   "execution_count": 15,
   "id": "ec3e2d09-6335-459a-9737-0ef9e1d53224",
   "metadata": {},
   "outputs": [
    {
     "data": {
      "text/markdown": [
       "## AI and Large Language Models Newsletter - [Date of Publication]\n",
       "\n",
       "**I. TL;DR - Summary of Main Developments**\n",
       "\n",
       "* Briefly summarize the key advancements and trends discussed in the newsletter (e.g., new evaluation techniques, emerging use-cases in specific industries, significant model releases).  Aim for 2-3 sentences maximum.\n",
       "\n",
       "\n",
       "**II. Great Use-Cases for LLMs in Financial Services (Article ID: e31)**\n",
       "\n",
       "* **Introduction:** Briefly introduce the article and its focus on financial services applications.\n",
       "* **Key Use Cases:** Detail specific examples of LLM utilization within financial services.  Consider categories like:\n",
       "    * Risk Management\n",
       "    * Fraud Detection\n",
       "    * Customer Service\n",
       "    * Investment Analysis\n",
       "    * Personalized Financial Advice\n",
       "* **Implementation Challenges:** Discuss potential hurdles in implementing these use-cases (e.g., data privacy, regulatory compliance, model explainability).\n",
       "* **Future Directions:**  Briefly touch on potential future developments and opportunities for LLMs in finance.\n",
       "\n",
       "\n",
       "**III. Evaluation of LLMs (Article ID: d12)**\n",
       "\n",
       "* **Introduction:** Briefly introduce the article and its focus on evaluation techniques for Generative AI.\n",
       "* **Traditional Evaluation Metrics:** Discuss established metrics like BLEU, ROUGE, METEOR, and their limitations in the context of LLMs.\n",
       "* **Emerging Evaluation Methods:**  Explore newer evaluation approaches, such as:\n",
       "    * Human Evaluation (e.g., Turing tests, preference judgments)\n",
       "    * Adversarial Evaluation (testing robustness against malicious inputs)\n",
       "    * Benchmarking on specific tasks (e.g., question answering, code generation)\n",
       "* **Challenges in LLM Evaluation:** Highlight the challenges associated with evaluating complex LLMs, such as subjective aspects of language, bias detection, and the rapidly evolving nature of the field.\n",
       "* **Best Practices and Recommendations:**  Provide practical advice for effectively evaluating LLM performance and selecting appropriate metrics.\n",
       "\n",
       "\n",
       "\n",
       "**(Optional Sections)**\n",
       "\n",
       "* **IV. News and Announcements:**  Include brief announcements about relevant conferences, workshops, new datasets, or software releases.\n",
       "* **V.  Research Highlights:**  Summarize recently published research papers of interest to the technical audience.\n",
       "* **VI.  Community Contributions:** Feature contributions from the community (e.g., blog posts, open-source projects).\n",
       "\n",
       "\n",
       "\n",
       "This outline provides a flexible structure that can be adapted based on the specific content of each newsletter. Remember to use clear and concise language, provide relevant code examples where appropriate, and link to original sources for further reading.\n"
      ],
      "text/plain": [
       "<IPython.core.display.Markdown object>"
      ]
     },
     "execution_count": 15,
     "metadata": {},
     "output_type": "execute_result"
    }
   ],
   "source": [
    "Markdown(response.content)"
   ]
  },
  {
   "cell_type": "code",
   "execution_count": null,
   "id": "e4adde6c-9bc4-4139-be13-d37ce8c13814",
   "metadata": {},
   "outputs": [],
   "source": []
  }
 ],
 "metadata": {
  "kernelspec": {
   "display_name": "Python 3 (ipykernel)",
   "language": "python",
   "name": "python3"
  },
  "language_info": {
   "codemirror_mode": {
    "name": "ipython",
    "version": 3
   },
   "file_extension": ".py",
   "mimetype": "text/x-python",
   "name": "python",
   "nbconvert_exporter": "python",
   "pygments_lexer": "ipython3",
   "version": "3.12.6"
  }
 },
 "nbformat": 4,
 "nbformat_minor": 5
}
