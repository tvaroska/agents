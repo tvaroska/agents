{
 "cells": [
  {
   "cell_type": "markdown",
   "id": "7517bb12-9b5f-4a0e-92f9-81b86bf86bcd",
   "metadata": {},
   "source": [
    "# Updater\n",
    "\n",
    "Use constraint generations\n",
    "\n",
    "## Collect new itema in RSS, GetPocket, emails, ...\n",
    "\n",
    "What to collect?\n",
    "- URL\n",
    "- Title\n",
    "- Summary\n",
    "- full content (plus media type)\n",
    "\n",
    "what is information is already a newsletter with links?\n",
    "\n",
    "## Create newsletter of those\n",
    "\n",
    "Evals?\n",
    "\n",
    "### Definitions of newsletter\n",
    "\n",
    "BaseModel:\n",
    "- title\n",
    "- description\n",
    "- audience\n",
    "- sections\n",
    "\n",
    "### Plan to build it\n",
    "\n",
    "LLM call transform definition and list of sources to plan\n",
    "Evals\n",
    "- follow limits (like no more than 5 sections ...\n",
    "- follow optionality/multi items in section description\n",
    "\n",
    "BaseModel:\n",
    "- preparation\n",
    "- sections (title, steps and sources)\n",
    "\n",
    "### Reflection on each section\n",
    "\n",
    "Generate, reflect, evaluate\n",
    "\n",
    "### Final check"
   ]
  },
  {
   "cell_type": "code",
   "execution_count": null,
   "id": "71233554-05e8-41ee-9f0a-eb20f47a250a",
   "metadata": {},
   "outputs": [],
   "source": []
  }
 ],
 "metadata": {
  "kernelspec": {
   "display_name": "Python 3 (ipykernel)",
   "language": "python",
   "name": "python3"
  },
  "language_info": {
   "codemirror_mode": {
    "name": "ipython",
    "version": 3
   },
   "file_extension": ".py",
   "mimetype": "text/x-python",
   "name": "python",
   "nbconvert_exporter": "python",
   "pygments_lexer": "ipython3",
   "version": "3.12.6"
  }
 },
 "nbformat": 4,
 "nbformat_minor": 5
}
